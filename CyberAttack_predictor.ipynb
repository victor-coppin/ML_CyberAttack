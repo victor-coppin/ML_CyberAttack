{
 "cells": [
  {
   "metadata": {},
   "cell_type": "markdown",
   "source": "# ML_CyberAttack Predictor project\n",
   "id": "33779923ecfa49ed"
  },
  {
   "metadata": {},
   "cell_type": "markdown",
   "source": [
    "Import libraries :\n",
    "link to ua-parser library : https://github.com/ua-parser/uap-python\n",
    "\n"
   ],
   "id": "e6234ec90180a341"
  },
  {
   "metadata": {
    "ExecuteTime": {
     "end_time": "2025-02-20T21:36:26.518088Z",
     "start_time": "2025-02-20T21:36:26.504997Z"
    }
   },
   "cell_type": "code",
   "source": [
    "import pandas as pd\n",
    "from uaparser import UAParser as parse_ua"
   ],
   "id": "7542cc4ac4498c84",
   "outputs": [],
   "execution_count": 114
  },
  {
   "metadata": {},
   "cell_type": "markdown",
   "source": "# DATA CLEAN",
   "id": "e2016e545d758b63"
  },
  {
   "metadata": {
    "ExecuteTime": {
     "end_time": "2025-02-20T21:36:26.943599Z",
     "start_time": "2025-02-20T21:36:26.528152Z"
    }
   },
   "cell_type": "code",
   "source": [
    "dataset_path = 'Data/cybersecurity_attacks.csv'\n",
    "df = pd.read_csv(dataset_path)\n",
    "df.head()"
   ],
   "id": "ae03aeec3fe0f279",
   "outputs": [
    {
     "data": {
      "text/plain": [
       "             Timestamp Source IP Address Destination IP Address  Source Port  \\\n",
       "0  2023-05-30 06:33:58     103.216.15.12           84.9.164.252        31225   \n",
       "1  2020-08-26 07:08:30    78.199.217.198         66.191.137.154        17245   \n",
       "2  2022-11-13 08:23:25      63.79.210.48          198.219.82.17        16811   \n",
       "3  2023-07-02 10:38:46     163.42.196.10        101.228.192.255        20018   \n",
       "4  2023-07-16 13:11:07     71.166.185.76        189.243.174.238         6131   \n",
       "\n",
       "   Destination Port Protocol  Packet Length Packet Type Traffic Type  \\\n",
       "0             17616     ICMP            503        Data         HTTP   \n",
       "1             48166     ICMP           1174        Data         HTTP   \n",
       "2             53600      UDP            306     Control         HTTP   \n",
       "3             32534      UDP            385        Data         HTTP   \n",
       "4             26646      TCP           1462        Data          DNS   \n",
       "\n",
       "                                        Payload Data  ... Action Taken  \\\n",
       "0  Qui natus odio asperiores nam. Optio nobis ius...  ...       Logged   \n",
       "1  Aperiam quos modi officiis veritatis rem. Omni...  ...      Blocked   \n",
       "2  Perferendis sapiente vitae soluta. Hic delectu...  ...      Ignored   \n",
       "3  Totam maxime beatae expedita explicabo porro l...  ...      Blocked   \n",
       "4  Odit nesciunt dolorem nisi iste iusto. Animi v...  ...      Blocked   \n",
       "\n",
       "   Severity Level User Information  \\\n",
       "0             Low    Reyansh Dugal   \n",
       "1             Low       Sumer Rana   \n",
       "2             Low     Himmat Karpe   \n",
       "3          Medium       Fateh Kibe   \n",
       "4             Low     Dhanush Chad   \n",
       "\n",
       "                                  Device Information Network Segment  \\\n",
       "0  Mozilla/5.0 (compatible; MSIE 8.0; Windows NT ...       Segment A   \n",
       "1  Mozilla/5.0 (compatible; MSIE 8.0; Windows NT ...       Segment B   \n",
       "2  Mozilla/5.0 (compatible; MSIE 9.0; Windows NT ...       Segment C   \n",
       "3  Mozilla/5.0 (Macintosh; PPC Mac OS X 10_11_5; ...       Segment B   \n",
       "4  Mozilla/5.0 (compatible; MSIE 5.0; Windows NT ...       Segment C   \n",
       "\n",
       "    Geo-location Data Proxy Information Firewall Logs IDS/IPS Alerts  \\\n",
       "0  Jamshedpur, Sikkim      150.9.97.135      Log Data            NaN   \n",
       "1  Bilaspur, Nagaland               NaN      Log Data            NaN   \n",
       "2   Bokaro, Rajasthan    114.133.48.179      Log Data     Alert Data   \n",
       "3  Jaunpur, Rajasthan               NaN           NaN     Alert Data   \n",
       "4  Anantapur, Tripura     149.6.110.119           NaN     Alert Data   \n",
       "\n",
       "  Log Source  \n",
       "0     Server  \n",
       "1   Firewall  \n",
       "2   Firewall  \n",
       "3   Firewall  \n",
       "4   Firewall  \n",
       "\n",
       "[5 rows x 25 columns]"
      ],
      "text/html": [
       "<div>\n",
       "<style scoped>\n",
       "    .dataframe tbody tr th:only-of-type {\n",
       "        vertical-align: middle;\n",
       "    }\n",
       "\n",
       "    .dataframe tbody tr th {\n",
       "        vertical-align: top;\n",
       "    }\n",
       "\n",
       "    .dataframe thead th {\n",
       "        text-align: right;\n",
       "    }\n",
       "</style>\n",
       "<table border=\"1\" class=\"dataframe\">\n",
       "  <thead>\n",
       "    <tr style=\"text-align: right;\">\n",
       "      <th></th>\n",
       "      <th>Timestamp</th>\n",
       "      <th>Source IP Address</th>\n",
       "      <th>Destination IP Address</th>\n",
       "      <th>Source Port</th>\n",
       "      <th>Destination Port</th>\n",
       "      <th>Protocol</th>\n",
       "      <th>Packet Length</th>\n",
       "      <th>Packet Type</th>\n",
       "      <th>Traffic Type</th>\n",
       "      <th>Payload Data</th>\n",
       "      <th>...</th>\n",
       "      <th>Action Taken</th>\n",
       "      <th>Severity Level</th>\n",
       "      <th>User Information</th>\n",
       "      <th>Device Information</th>\n",
       "      <th>Network Segment</th>\n",
       "      <th>Geo-location Data</th>\n",
       "      <th>Proxy Information</th>\n",
       "      <th>Firewall Logs</th>\n",
       "      <th>IDS/IPS Alerts</th>\n",
       "      <th>Log Source</th>\n",
       "    </tr>\n",
       "  </thead>\n",
       "  <tbody>\n",
       "    <tr>\n",
       "      <th>0</th>\n",
       "      <td>2023-05-30 06:33:58</td>\n",
       "      <td>103.216.15.12</td>\n",
       "      <td>84.9.164.252</td>\n",
       "      <td>31225</td>\n",
       "      <td>17616</td>\n",
       "      <td>ICMP</td>\n",
       "      <td>503</td>\n",
       "      <td>Data</td>\n",
       "      <td>HTTP</td>\n",
       "      <td>Qui natus odio asperiores nam. Optio nobis ius...</td>\n",
       "      <td>...</td>\n",
       "      <td>Logged</td>\n",
       "      <td>Low</td>\n",
       "      <td>Reyansh Dugal</td>\n",
       "      <td>Mozilla/5.0 (compatible; MSIE 8.0; Windows NT ...</td>\n",
       "      <td>Segment A</td>\n",
       "      <td>Jamshedpur, Sikkim</td>\n",
       "      <td>150.9.97.135</td>\n",
       "      <td>Log Data</td>\n",
       "      <td>NaN</td>\n",
       "      <td>Server</td>\n",
       "    </tr>\n",
       "    <tr>\n",
       "      <th>1</th>\n",
       "      <td>2020-08-26 07:08:30</td>\n",
       "      <td>78.199.217.198</td>\n",
       "      <td>66.191.137.154</td>\n",
       "      <td>17245</td>\n",
       "      <td>48166</td>\n",
       "      <td>ICMP</td>\n",
       "      <td>1174</td>\n",
       "      <td>Data</td>\n",
       "      <td>HTTP</td>\n",
       "      <td>Aperiam quos modi officiis veritatis rem. Omni...</td>\n",
       "      <td>...</td>\n",
       "      <td>Blocked</td>\n",
       "      <td>Low</td>\n",
       "      <td>Sumer Rana</td>\n",
       "      <td>Mozilla/5.0 (compatible; MSIE 8.0; Windows NT ...</td>\n",
       "      <td>Segment B</td>\n",
       "      <td>Bilaspur, Nagaland</td>\n",
       "      <td>NaN</td>\n",
       "      <td>Log Data</td>\n",
       "      <td>NaN</td>\n",
       "      <td>Firewall</td>\n",
       "    </tr>\n",
       "    <tr>\n",
       "      <th>2</th>\n",
       "      <td>2022-11-13 08:23:25</td>\n",
       "      <td>63.79.210.48</td>\n",
       "      <td>198.219.82.17</td>\n",
       "      <td>16811</td>\n",
       "      <td>53600</td>\n",
       "      <td>UDP</td>\n",
       "      <td>306</td>\n",
       "      <td>Control</td>\n",
       "      <td>HTTP</td>\n",
       "      <td>Perferendis sapiente vitae soluta. Hic delectu...</td>\n",
       "      <td>...</td>\n",
       "      <td>Ignored</td>\n",
       "      <td>Low</td>\n",
       "      <td>Himmat Karpe</td>\n",
       "      <td>Mozilla/5.0 (compatible; MSIE 9.0; Windows NT ...</td>\n",
       "      <td>Segment C</td>\n",
       "      <td>Bokaro, Rajasthan</td>\n",
       "      <td>114.133.48.179</td>\n",
       "      <td>Log Data</td>\n",
       "      <td>Alert Data</td>\n",
       "      <td>Firewall</td>\n",
       "    </tr>\n",
       "    <tr>\n",
       "      <th>3</th>\n",
       "      <td>2023-07-02 10:38:46</td>\n",
       "      <td>163.42.196.10</td>\n",
       "      <td>101.228.192.255</td>\n",
       "      <td>20018</td>\n",
       "      <td>32534</td>\n",
       "      <td>UDP</td>\n",
       "      <td>385</td>\n",
       "      <td>Data</td>\n",
       "      <td>HTTP</td>\n",
       "      <td>Totam maxime beatae expedita explicabo porro l...</td>\n",
       "      <td>...</td>\n",
       "      <td>Blocked</td>\n",
       "      <td>Medium</td>\n",
       "      <td>Fateh Kibe</td>\n",
       "      <td>Mozilla/5.0 (Macintosh; PPC Mac OS X 10_11_5; ...</td>\n",
       "      <td>Segment B</td>\n",
       "      <td>Jaunpur, Rajasthan</td>\n",
       "      <td>NaN</td>\n",
       "      <td>NaN</td>\n",
       "      <td>Alert Data</td>\n",
       "      <td>Firewall</td>\n",
       "    </tr>\n",
       "    <tr>\n",
       "      <th>4</th>\n",
       "      <td>2023-07-16 13:11:07</td>\n",
       "      <td>71.166.185.76</td>\n",
       "      <td>189.243.174.238</td>\n",
       "      <td>6131</td>\n",
       "      <td>26646</td>\n",
       "      <td>TCP</td>\n",
       "      <td>1462</td>\n",
       "      <td>Data</td>\n",
       "      <td>DNS</td>\n",
       "      <td>Odit nesciunt dolorem nisi iste iusto. Animi v...</td>\n",
       "      <td>...</td>\n",
       "      <td>Blocked</td>\n",
       "      <td>Low</td>\n",
       "      <td>Dhanush Chad</td>\n",
       "      <td>Mozilla/5.0 (compatible; MSIE 5.0; Windows NT ...</td>\n",
       "      <td>Segment C</td>\n",
       "      <td>Anantapur, Tripura</td>\n",
       "      <td>149.6.110.119</td>\n",
       "      <td>NaN</td>\n",
       "      <td>Alert Data</td>\n",
       "      <td>Firewall</td>\n",
       "    </tr>\n",
       "  </tbody>\n",
       "</table>\n",
       "<p>5 rows × 25 columns</p>\n",
       "</div>"
      ]
     },
     "execution_count": 115,
     "metadata": {},
     "output_type": "execute_result"
    }
   ],
   "execution_count": 115
  },
  {
   "metadata": {},
   "cell_type": "markdown",
   "source": [
    "## Device Information\n",
    "Device information column return the user agent information or the destination address \\\n",
    "User-agent provide information about the devices : OS, Browsers and device type and brand \\\n",
    "#### **Observation** :\n",
    "ua-string is unusable as it is an aggregation of string values. Furthermore, some information  \\\n",
    "could lead to confusion as the prefix which could be interpreted as the browser, but which \\\n",
    "is in fact the compatibility of the rendering browser engine. \\\n",
    "*Mozilla/5.0 (iPod; U; CPU iPhone OS 3_0 like Mac OS X; tg-TJ) AppleWebKit/534.33.5 (KHTML, like Gecko) Version/4.0.5 Mobile/8B116 Safari/6534.33.5*  \\\n",
    "For instance this ua above refer to an ipod with Safari browser version as 4.0.5. and an Iphone OS 3.0\n",
    "#### *Data cleaning*\n",
    "Extraction of the name and version of the OS, Browser and the type of device to figure out if one is susceptible to \\\n",
    "a specific attack. \\\n",
    "In order to do so, we decide to use the library ua_parser to extract relevant information.  \\\n",
    "\n"
   ],
   "id": "b6a779351f5f9f41"
  },
  {
   "metadata": {
    "ExecuteTime": {
     "end_time": "2025-02-20T21:36:55.409760Z",
     "start_time": "2025-02-20T21:36:27.038653Z"
    }
   },
   "cell_type": "code",
   "source": [
    "# Parse the Device Information column to get a new column \"parsed_os\"\n",
    "def version_os(row):\n",
    "    ua = row['Device Information']\n",
    "    parsed_ua = parse_ua(ua)\n",
    "    os_name = parsed_ua.os['name']\n",
    "    os_version = parsed_ua.os['version']\n",
    "    version = os_version.split(\".\")[0] # return the major of the version (first numbers)\n",
    "\n",
    "    return f\"{os_name} {version}\"\n",
    "\n",
    "def version_browser(row):\n",
    "\n",
    "    ua = row['Device Information']\n",
    "    parsed_ua = parse_ua(ua)\n",
    "    browser_name = parsed_ua.browser['name']\n",
    "    browser_version = parsed_ua.browser['version']\n",
    "    version = browser_version.split(\".\")[0]\n",
    "\n",
    "    return f\"{browser_name} {version}\"\n",
    "\n",
    "def type_device(row):\n",
    "\n",
    "    ua = row['Device Information']\n",
    "    parsed_ua = parse_ua(ua)\n",
    "    device_type = parsed_ua.device['type']\n",
    "    if device_type is None:\n",
    "        device_type = \"computer\"\n",
    "    return device_type\n",
    "\n",
    "\n",
    "df['version_os'] = df.apply(version_os, axis=1)\n",
    "df['version_browser'] = df.apply(version_browser, axis=1)\n",
    "df['type_device'] = df.apply(type_device, axis=1)"
   ],
   "id": "2cc8aa842ccbb3f5",
   "outputs": [],
   "execution_count": 116
  },
  {
   "metadata": {},
   "cell_type": "markdown",
   "source": "## Visualization",
   "id": "6aa4e20cb2a0b68e"
  },
  {
   "metadata": {},
   "cell_type": "markdown",
   "source": [
    "Palette creation for visual\n",
    "color selection : https://colorbrewer2.org/#"
   ],
   "id": "894e1a070a4145fa"
  },
  {
   "metadata": {
    "ExecuteTime": {
     "end_time": "2025-02-20T21:39:48.070626Z",
     "start_time": "2025-02-20T21:39:48.061628Z"
    }
   },
   "cell_type": "code",
   "source": [
    "import seaborn as sns\n",
    "palette_os = ['#ca0020','#f4a582','#ffffff','#bababa','#404040']\n",
    "sns.set_palette(palette_os)\n"
   ],
   "id": "e83d222eb978f8b9",
   "outputs": [],
   "execution_count": 122
  },
  {
   "metadata": {},
   "cell_type": "markdown",
   "source": "## Data",
   "id": "ee7554970470e09c"
  },
  {
   "metadata": {
    "ExecuteTime": {
     "end_time": "2025-02-20T21:36:55.629045Z",
     "start_time": "2025-02-20T21:36:55.617520Z"
    }
   },
   "cell_type": "code",
   "source": "import matplotlib.pyplot as plt\n",
   "id": "1709af48e4660b0e",
   "outputs": [],
   "execution_count": 118
  },
  {
   "metadata": {
    "ExecuteTime": {
     "end_time": "2025-02-20T21:37:17.202038Z",
     "start_time": "2025-02-20T21:36:55.681048Z"
    }
   },
   "cell_type": "code",
   "source": [
    "df_view = df\n",
    "def version_os_name(row):\n",
    "    ua = row['Device Information']\n",
    "    parsed_ua = parse_ua(ua)\n",
    "    os_name = parsed_ua.os['name']\n",
    "    return os_name\n",
    "\n",
    "def version_browser_name(row):\n",
    "    ua = row['Device Information']\n",
    "    parsed_ua = parse_ua(ua)\n",
    "    browser_name = parsed_ua.browser['name']\n",
    "    return browser_name\n",
    "\n",
    "def type_device(row):\n",
    "    ua = row['Device Information']\n",
    "    parsed_ua = parse_ua(ua)\n",
    "    device_type = parsed_ua.device['type']\n",
    "    if device_type is None:\n",
    "        device_type = \"computer\" # for null value force as 'computer'\n",
    "    return device_type\n",
    "\n",
    "df_view['version_os_name'] = df_view.apply(version_os_name, axis=1)\n",
    "df_view['version_browser_name'] = df_view.apply(version_browser_name, axis=1)\n",
    "df_view['type_device'] = df_view.apply(type_device, axis=1)\n"
   ],
   "id": "ff9e6838fed37537",
   "outputs": [],
   "execution_count": 119
  },
  {
   "metadata": {
    "ExecuteTime": {
     "end_time": "2025-02-20T21:37:17.262729Z",
     "start_time": "2025-02-20T21:37:17.234411Z"
    }
   },
   "cell_type": "code",
   "source": [
    "dict_os = df_view['version_os_name'].value_counts().to_dict()\n",
    "data = dict_os.values()\n",
    "labels = dict_os.keys()\n",
    "print(data)\n",
    "print(labels)"
   ],
   "id": "8bdd718c3cd10176",
   "outputs": [
    {
     "name": "stdout",
     "output_type": "stream",
     "text": [
      "dict_values([17953, 7171, 5813, 5774, 3289])\n",
      "dict_keys(['Windows', 'Linux', 'Mac OS', 'iOS', 'Android'])\n"
     ]
    }
   ],
   "execution_count": 120
  },
  {
   "metadata": {
    "ExecuteTime": {
     "end_time": "2025-02-20T21:51:57.159425Z",
     "start_time": "2025-02-20T21:51:57.072644Z"
    }
   },
   "cell_type": "code",
   "source": "plot = plt.pie(data, labels=labels, autopct='%1.1f%%',colors =sns.color_palette())",
   "id": "5c530b8b7afd74c9",
   "outputs": [
    {
     "data": {
      "text/plain": [
       "<Figure size 640x480 with 1 Axes>"
      ],
      "image/png": "[encoded data removed]"
     },
     "metadata": {},
     "output_type": "display_data"
    }
   ],
   "execution_count": 129
  }
 ],
 "metadata": {
  "kernelspec": {
   "display_name": "Python 3",
   "language": "python",
   "name": "python3"
  },
  "language_info": {
   "codemirror_mode": {
    "name": "ipython",
    "version": 2
   },
   "file_extension": ".py",
   "mimetype": "text/x-python",
   "name": "python",
   "nbconvert_exporter": "python",
   "pygments_lexer": "ipython2",
   "version": "2.7.6"
  }
 },
 "nbformat": 4,
 "nbformat_minor": 5
}
